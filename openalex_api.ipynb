{
 "cells": [
  {
   "cell_type": "code",
   "execution_count": 1,
   "metadata": {},
   "outputs": [],
   "source": [
    "import pandas as pd\n",
    "import requests\n",
    "from tqdm import tqdm\n",
    "import json"
   ]
  },
  {
   "cell_type": "code",
   "execution_count": 2,
   "metadata": {},
   "outputs": [],
   "source": [
    "# url with a placeholder for cursor\n",
    "example_url_with_cursor = 'https://api.openalex.org/works?filter=abstract.search:renewable%20energy&per-page=200&cursor={}&mailto=kuntakim88@gmail.com'\n",
    "cursor = '*'"
   ]
  },
  {
   "cell_type": "code",
   "execution_count": null,
   "metadata": {},
   "outputs": [],
   "source": [
    " # set cursor value and request page from OpenAlex\n",
    "# url = example_url_with_cursor.format(cursor)\n",
    "# print('\\n' + url)\n",
    "# page_with_results = requests.get(url).json()"
   ]
  },
  {
   "cell_type": "code",
   "execution_count": 10,
   "metadata": {},
   "outputs": [],
   "source": [
    "# json으로 저장\n",
    "# with open('./renewable_json/renewable_1.json','w') as f:\n",
    "#     json.dump(page_with_results['results'],f)"
   ]
  },
  {
   "cell_type": "code",
   "execution_count": 3,
   "metadata": {},
   "outputs": [
    {
     "data": {
      "text/plain": [
       "'https://api.openalex.org/works?filter=abstract.search:renewable%20energy&per-page=200&cursor=*&mailto=kuntakim88@gmail.com'"
      ]
     },
     "execution_count": 3,
     "metadata": {},
     "output_type": "execute_result"
    }
   ],
   "source": [
    "example_url_with_cursor.format(cursor)"
   ]
  },
  {
   "cell_type": "code",
   "execution_count": 10,
   "metadata": {},
   "outputs": [
    {
     "name": "stdout",
     "output_type": "stream",
     "text": [
      "1000 1197\n"
     ]
    }
   ],
   "source": [
    "end = int(239325/200)+1 # 일일 10만개, 1회 200개 요청\n",
    "start = 1196\n",
    "print(start, end)"
   ]
  },
  {
   "cell_type": "code",
   "execution_count": 7,
   "metadata": {},
   "outputs": [
    {
     "name": "stderr",
     "output_type": "stream",
     "text": [
      "100%|██████████| 196/196 [08:07<00:00,  2.48s/it]\n"
     ]
    }
   ],
   "source": [
    "for idx in tqdm(range(start,end)):\n",
    "     # set cursor value and request page from OpenAlex\n",
    "    url = example_url_with_cursor.format(cursor)\n",
    "    page_with_results = requests.get(url).json()\n",
    "    \n",
    "    # json으로 저장\n",
    "    with open(f'./renewable_json/renewable_{idx}.json','w') as f:\n",
    "        json.dump(page_with_results,f)\n",
    "    # next page\n",
    "    cursor = page_with_results['meta']['next_cursor']"
   ]
  }
 ],
 "metadata": {
  "kernelspec": {
   "display_name": "python38",
   "language": "python",
   "name": "python3"
  },
  "language_info": {
   "codemirror_mode": {
    "name": "ipython",
    "version": 3
   },
   "file_extension": ".py",
   "mimetype": "text/x-python",
   "name": "python",
   "nbconvert_exporter": "python",
   "pygments_lexer": "ipython3",
   "version": "3.8.16"
  },
  "orig_nbformat": 4
 },
 "nbformat": 4,
 "nbformat_minor": 2
}
