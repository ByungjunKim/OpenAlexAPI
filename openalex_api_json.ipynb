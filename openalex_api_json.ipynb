{
 "cells": [
  {
   "cell_type": "code",
   "execution_count": null,
   "metadata": {},
   "outputs": [],
   "source": [
    "import pandas as pd\n",
    "import requests\n",
    "from tqdm import tqdm\n",
    "tqdm.pandas()\n",
    "import json"
   ]
  },
  {
   "cell_type": "code",
   "execution_count": null,
   "metadata": {},
   "outputs": [],
   "source": [
    "# url with a placeholder for cursor\n",
    "example_url_with_cursor = 'https://api.openalex.org/works?filter=abstract.search:renewable%20energy&per-page=200&cursor={}&mailto=kuntakim88@gmail.com'\n",
    "cursor = '*'"
   ]
  },
  {
   "cell_type": "code",
   "execution_count": null,
   "metadata": {},
   "outputs": [],
   "source": [
    " # set cursor value and request page from OpenAlex\n",
    "url = example_url_with_cursor.format(cursor)\n",
    "print('\\n' + url)\n",
    "page_with_results = requests.get(url).json()\n",
    "page_with_results"
   ]
  },
  {
   "cell_type": "code",
   "execution_count": null,
   "metadata": {},
   "outputs": [],
   "source": [
    "!mkdir renewable_json"
   ]
  },
  {
   "cell_type": "code",
   "execution_count": null,
   "metadata": {},
   "outputs": [],
   "source": [
    "# json으로 저장\n",
    "with open('./renewable_json/renewable_1.json','w') as f:\n",
    "    json.dump(page_with_results['results'],f)"
   ]
  },
  {
   "cell_type": "code",
   "execution_count": null,
   "metadata": {},
   "outputs": [],
   "source": [
    "# end = int(239325/200)+1 # 일일 10만개, 1회 200개 요청\n",
    "end = 5\n",
    "start = 1\n",
    "print(start, end)"
   ]
  },
  {
   "cell_type": "code",
   "execution_count": null,
   "metadata": {},
   "outputs": [],
   "source": [
    "for idx in tqdm(range(start,end)):\n",
    "     # set cursor value and request page from OpenAlex\n",
    "    url = example_url_with_cursor.format(cursor)\n",
    "    page_with_results = requests.get(url).json()\n",
    "    \n",
    "    # json으로 저장\n",
    "    with open(f'./renewable_json/renewable_{idx}.json','w') as f:\n",
    "        json.dump(page_with_results,f)\n",
    "    # next page\n",
    "    cursor = page_with_results['meta']['next_cursor']"
   ]
  },
  {
   "cell_type": "code",
   "execution_count": null,
   "metadata": {},
   "outputs": [],
   "source": [
    "# json 파일 리스트\n",
    "file_list = glob.glob('./renewable_json/*.json')\n",
    "len(file_list)\n",
    "file_list"
   ]
  },
  {
   "cell_type": "code",
   "execution_count": null,
   "metadata": {},
   "outputs": [],
   "source": [
    "# 여러 json 파일을 읽어서 result만 하나의 리스트로 저장하기\n",
    "openalex_json = []\n",
    "for file in tqdm(file_list):\n",
    "    with open(file,'r') as f:\n",
    "        temp_json = json.load(f)['results']\n",
    "    openalex_json.extend(temp_json)"
   ]
  },
  {
   "cell_type": "code",
   "execution_count": null,
   "metadata": {},
   "outputs": [],
   "source": [
    "openalex_json"
   ]
  },
  {
   "cell_type": "code",
   "execution_count": null,
   "metadata": {},
   "outputs": [],
   "source": [
    "# pandas dataframe으로 변환\n",
    "df = pd.DataFrame.from_dict(openalex_json)\n",
    "df"
   ]
  },
  {
   "cell_type": "code",
   "execution_count": null,
   "metadata": {},
   "outputs": [],
   "source": [
    "# 중복삭제 (id 컬럼 기준)\n",
    "df = df.drop_duplicates(subset=['id']).reset_index(drop=True)\n",
    "df"
   ]
  },
  {
   "cell_type": "code",
   "execution_count": null,
   "metadata": {},
   "outputs": [],
   "source": [
    "# 초록 텍스트 복원(리스트형태에서 텍스트로)\n",
    "def index_to_text(abstract_inverted_index):\n",
    "    abstract_index = {}\n",
    "    for k, vlist in abstract_inverted_index.items():\n",
    "        for v in vlist:\n",
    "            abstract_index[v] = k\n",
    "    abstract = ' '.join(abstract_index[k] for k in sorted(abstract_index.keys()))\n",
    "    return abstract"
   ]
  },
  {
   "cell_type": "code",
   "execution_count": null,
   "metadata": {},
   "outputs": [],
   "source": [
    "# 초록 복원 테스트\n",
    "index_to_text(df['abstract_inverted_index'][0])"
   ]
  },
  {
   "cell_type": "code",
   "execution_count": null,
   "metadata": {},
   "outputs": [],
   "source": [
    "# 초록 복원 결과를 'abstract' 컬럼에 추가\n",
    "df['abstract'] = df[~pd.isna(df['abstract_inverted_index'])]['abstract_inverted_index'].progress_map(lambda x:index_to_text(x))"
   ]
  },
  {
   "cell_type": "code",
   "execution_count": null,
   "metadata": {},
   "outputs": [],
   "source": [
    "df['abstract']"
   ]
  },
  {
   "cell_type": "code",
   "execution_count": null,
   "metadata": {},
   "outputs": [],
   "source": [
    "df"
   ]
  }
 ],
 "metadata": {
  "kernelspec": {
   "display_name": "python38",
   "language": "python",
   "name": "python3"
  },
  "language_info": {
   "codemirror_mode": {
    "name": "ipython",
    "version": 3
   },
   "file_extension": ".py",
   "mimetype": "text/x-python",
   "name": "python",
   "nbconvert_exporter": "python",
   "pygments_lexer": "ipython3",
   "version": "3.8.16"
  },
  "orig_nbformat": 4
 },
 "nbformat": 4,
 "nbformat_minor": 2
}
